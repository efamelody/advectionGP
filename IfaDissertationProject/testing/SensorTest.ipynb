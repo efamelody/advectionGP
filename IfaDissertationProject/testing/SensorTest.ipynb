{
 "cells": [
  {
   "cell_type": "markdown",
   "metadata": {},
   "source": [
    "# SYSTEM FLOW OVERVIEW (HIGH-LEVEL)\n",
    "\n",
    "1. **Sensor Model Setup**\n",
    "   - Define where and how sensors collect data.\n",
    "   - Example: `FixedSensorModel` defines sensor locations and observation regions.\n",
    "\n",
    "2. **Wind Model**\n",
    "   - Defines how wind transports particles.\n",
    "   - Example: `RealWind` model uses NASA MERRA-2 wind fields.\n",
    "\n",
    "3. **Kernel Selection**\n",
    "   - Defines basis functions used to approximate the source distribution.\n",
    "   - Example: EQ (RBF-like) or GaussianBases kernels.\n",
    "\n",
    "4. **Model Initialization**\n",
    "   - Create the `MeshFreeAdjointAdvectionDiffusionModel` (mInfer).\n",
    "   - Pass: boundary, resolution, kernel, sensor model, wind model, diffusion constant `k_0`, etc.\n",
    "\n",
    "5. **Particle Simulation**\n",
    "   - Generate particles:\n",
    "     - Either based on `sensor locations` (lecturer's default) or\n",
    "     - Custom `grid-based particles` (your modification with polygons)\n",
    "   - Particles are used to approximate the adjoint solution (i.e., backward in time diffusion and advection).\n",
    "\n",
    "6. **Regressor Matrix Computation (computeModelRegressors)**\n",
    "   - Diffuse particles backward in time.\n",
    "   - Use wind + diffusion.\n",
    "   - Evaluate basis functions at particle positions (via `kernel.getPhiValues`).\n",
    "   - Outputs matrix `X` used in source inference.\n",
    "\n",
    "7. **Source Inference**\n",
    "   - Solve the inverse problem to infer the likely pollution source.\n",
    "   - Compute `Z` distribution (mean, covariance).\n",
    "\n",
    "8. **Forward Concentration Simulation (computeConcentration)**\n",
    "   - Use `Z` samples.\n",
    "   - Forward diffusion of particles (forward-time pass).\n",
    "   - Compute concentration at each grid/particle.\n",
    "\n",
    "---\n",
    "\n",
    "### **RELATIONSHIPS**\n",
    "\n",
    "- **SensorModel** → Defines where to evaluate adjoints (H matrix)\n",
    "- **WindModel** → Moves particles in both `computeModelRegressors()` and `computeConcentration()`\n",
    "- **Kernel** → Computes basis functions (Phi values) at particle positions\n",
    "- **Model** → Coordinates everything\n",
    "\n",
    "---\n",
    "\n",
    "Would you like me to also help draw a simple flowchart (blocks/arrows)?\n"
   ]
  },
  {
   "cell_type": "markdown",
   "metadata": {},
   "source": [
    "### Flow:\n",
    "1. **Model Initialization**\n",
    "   - You define the resolution, boundary, diffusion coefficient (k₀), kernel, and wind model.\n",
    "   \n",
    "2. **Kernel Feature Generation**\n",
    "   - EQ or GaussianBases kernels generate basis functions (Φ) based on random features or grid-based features depending on the kernel type.\n",
    "\n",
    "3. **Sensor Setup**\n",
    "   - FixedSensorModel defines where sensors (observation points) are located in space and time.\n",
    "   \n",
    "4. **Particle Generation**\n",
    "   - Particles are initialized near sensors (sensor-based approach) or in grid cells (your polygon/grid approach).\n",
    "\n",
    "5. **Adjoint Simulation (Backward in Time)**\n",
    "   - Particles are diffused backward in time, influenced by wind (windmodel.getwind).\n",
    "\n",
    "6. **Basis Evaluation**\n",
    "   - Kernel Φ values are computed at particle positions at each timestep.\n",
    "\n",
    "7. **Compute X Matrix**\n",
    "   - The weighted sum of Φ values over particles gives the regressor matrix X.\n",
    "\n",
    "8. **Source Inference**\n",
    "   - From X and observations, infer the source distribution (Z) via statistical methods.\n",
    "\n",
    "9. **Forward Concentration Prediction**\n",
    "   - With inferred Z, particles are diffused forward in time to compute predicted concentrations.\n",
    "\n",
    "10. **Visualization/Output**\n",
    "    - Display concentration maps, source locations, and uncertainty estimates.\n"
   ]
  },
  {
   "cell_type": "code",
   "execution_count": 1,
   "metadata": {},
   "outputs": [],
   "source": [
    "#from advectionGPdatasets.roundhill import RoundHill\n",
    "from advectionGPdatasets import proposeboundary\n",
    "from advectionGP.models.mfmodels import MeshFreeAdjointAdvectionDiffusionModel as Model\n",
    "from advectionGP.sensors import FixedSensorModel, RemoteSensingModel #Builds sensor arrays to generate data for foward model or to generate observations for comparison\n",
    "from advectionGP.kernels import EQ, GaussianBases #Generates exponentiated quadratic kernel approximation\n",
    "from advectionGP.wind import WindSimple\n",
    "import matplotlib.pyplot as plt\n",
    "from scipy.stats import norm\n",
    "import numpy as np\n",
    "%matplotlib inline"
   ]
  },
  {
   "cell_type": "code",
   "execution_count": 2,
   "metadata": {},
   "outputs": [],
   "source": [
    "import pandas as pd\n",
    "import numpy as np\n",
    "from pyproj import Proj\n",
    "from scipy.spatial import cKDTree\n",
    "from netCDF4 import Dataset\n",
    "from datetime import datetime, timedelta\n",
    "\n",
    "class RealWind:\n",
    "    def __init__(self, start_date=\"2019-10-01\", num_days=9):\n",
    "        \"\"\"\n",
    "        Precompute and store wind data in a pandas DataFrame for fast lookup.\n",
    "        The table includes time (in minutes), northing, easting, U (east wind), and V (north wind).\n",
    "        \"\"\"\n",
    "        self.proj = Proj(proj='utm', zone=56, south=True, ellps='WGS84')\n",
    "        self.wind_table = []  # List to accumulate wind data\n",
    "\n",
    "        start_date = datetime.strptime(start_date, \"%Y-%m-%d\")\n",
    "        layer_range = (56, 68)  # Height range for averaging wind speeds\n",
    "        bounding_box = (140.5, -39, 150, -34)\n",
    "\n",
    "        for day_offset in range(num_days):\n",
    "            current_date = start_date + timedelta(days=day_offset)\n",
    "            date_str = current_date.strftime('%Y%m%d')\n",
    "            file_path = rf\"C:\\\\Users\\\\Nur Izfarwiza\\\\Documents\\\\Dissertation\\\\Wind\\\\MERRA2_400.tavg3_3d_asm_Nv.{date_str}.nc4\"\n",
    "\n",
    "            try:\n",
    "                dataset = Dataset(file_path, 'r')\n",
    "                lats = dataset.variables['lat'][:]\n",
    "                lons = dataset.variables['lon'][:]\n",
    "                \n",
    "                # Apply the bounding box filter\n",
    "                lat_indices = np.where((lats >= bounding_box[1]) & (lats <= bounding_box[3]))[0]\n",
    "                lon_indices = np.where((lons >= bounding_box[0]) & (lons <= bounding_box[2]))[0]\n",
    "\n",
    "                lats = lats[lat_indices]\n",
    "                lons = lons[lon_indices]\n",
    "\n",
    "                # Load and filter wind data within the bounding box\n",
    "                eastward_wind = dataset.variables['U'][:, :, lat_indices, :][:, :, :, lon_indices]\n",
    "                northward_wind = dataset.variables['V'][:, :, lat_indices, :][:, :, :, lon_indices]\n",
    "\n",
    "                # Average over the specified vertical layers\n",
    "                layer_range_slice = slice(layer_range[0], layer_range[1])\n",
    "                eastward_wind_avg = np.mean(eastward_wind[:, layer_range_slice, :, :], axis=1)\n",
    "                northward_wind_avg = np.mean(northward_wind[:, layer_range_slice, :, :], axis=1)\n",
    "\n",
    "                # Read and store time directly in minutes\n",
    "                print(\"NASA Time Units:\", dataset.variables['time'].units)\n",
    "                time_var = np.array(dataset.variables['time'][:], dtype=np.float64)  # Already in minutes!\n",
    "\n",
    "                for t_idx, t_val in enumerate(time_var):\n",
    "                    if not np.isfinite(t_val):\n",
    "                        continue  # Skip invalid time values\n",
    "                    timestamp = t_val  # Store time directly in minutes\n",
    "\n",
    "                    # Vectorized coordinate transformation\n",
    "                    lon_grid, lat_grid = np.meshgrid(lons, lats)\n",
    "                    easting, northing = self.proj(lon_grid, lat_grid)\n",
    "\n",
    "                    # Flatten arrays to create a table of points\n",
    "                    easting = easting.flatten()\n",
    "                    northing = northing.flatten()\n",
    "                    u_wind = eastward_wind_avg[t_idx].flatten()\n",
    "                    v_wind = northward_wind_avg[t_idx].flatten()\n",
    "\n",
    "                    # Filter out invalid projections\n",
    "                    valid_mask = np.isfinite(easting) & np.isfinite(northing) & np.isfinite(u_wind) & np.isfinite(v_wind)\n",
    "\n",
    "                    # Append valid data to the wind table\n",
    "                    self.wind_table.extend(\n",
    "                        zip([timestamp] * np.sum(valid_mask),\n",
    "                            northing[valid_mask],\n",
    "                            easting[valid_mask],\n",
    "                            u_wind[valid_mask],\n",
    "                            v_wind[valid_mask])\n",
    "                    )\n",
    "\n",
    "                dataset.close()\n",
    "\n",
    "            except FileNotFoundError:\n",
    "                print(f\"File for {date_str} not found.\")\n",
    "            except Exception as e:\n",
    "                print(f\"Error loading {date_str}: {e}\")\n",
    "\n",
    "        # Convert to pandas DataFrame for fast lookups\n",
    "        self.wind_table = pd.DataFrame(self.wind_table, columns=[\"Timestamp\", \"Northing\", \"Easting\", \"East Wind\", \"North Wind\"])\n",
    "\n",
    "        # Clean data: Drop NaN or Inf values\n",
    "        self.wind_table = self.wind_table.replace([np.inf, -np.inf], np.nan)\n",
    "        self.wind_table = self.wind_table.dropna()\n",
    "\n",
    "        # Sort by timestamp for faster temporal queries\n",
    "        self.wind_table = self.wind_table.sort_values(by=\"Timestamp\").reset_index(drop=True)\n",
    "\n",
    "        # Build a spatial KD-Tree for efficient spatial querying\n",
    "        self.wind_tree = cKDTree(self.wind_table[[\"Easting\", \"Northing\"]].values)\n",
    "\n",
    "        print(f\"Wind data precomputed for {len(self.wind_table)} points across {num_days} days.\")\n",
    "    \n",
    "    def getwind(self, coords):\n",
    "        \"\"\"\n",
    "        Get the nearest-neighbor wind speed for particles at given positions and times.\n",
    "\n",
    "        Parameters:\n",
    "        - coords: A tensor of shape (num_particles, num_observations, 3)\n",
    "                  where each entry is [time, easting, northing].\n",
    "\n",
    "        Returns:\n",
    "        - wind_data: A tensor of shape (num_particles, num_observations, 2)\n",
    "                     where each entry is [east_wind_speed, north_wind_speed].\n",
    "        \"\"\"\n",
    "        num_particles, num_observations, _ = coords.shape\n",
    "        wind_data = np.full((num_particles, num_observations, 2), np.nan)  # Initialize with NaN\n",
    "\n",
    "        timestamps = coords[:, :, 0].flatten()  # Keep time in minutes\n",
    "\n",
    "        for i in range(num_particles):\n",
    "            for j in range(num_observations):\n",
    "                easting, northing = coords[i, j, 1], coords[i, j, 2]\n",
    "                timestamp = timestamps[i * num_observations + j]\n",
    "\n",
    "                closest_time_idx = (np.abs(self.wind_table[\"Timestamp\"] - timestamp)).idxmin()\n",
    "                dist, closest_idx = self.wind_tree.query([easting, northing], k=1)\n",
    "\n",
    "                wind_data[i, j] = self.wind_table.loc[closest_idx, [\"East Wind\", \"North Wind\"]]\n",
    "\n",
    "        return wind_data\n"
   ]
  },
  {
   "cell_type": "code",
   "execution_count": 3,
   "metadata": {},
   "outputs": [
    {
     "name": "stdout",
     "output_type": "stream",
     "text": [
      "NASA Time Units: minutes since 2019-12-15 01:30:00\n"
     ]
    },
    {
     "name": "stderr",
     "output_type": "stream",
     "text": [
      "C:\\Users\\Nur Izfarwiza\\AppData\\Local\\Temp\\ipykernel_32064\\706863214.py:49: RuntimeWarning: invalid value encountered in cast\n",
      "  time_var = np.array(dataset.variables['time'][:], dtype=np.float64)  # Already in minutes!\n",
      "C:\\Users\\Nur Izfarwiza\\AppData\\Local\\Temp\\ipykernel_32064\\706863214.py:49: UserWarning: WARNING: valid_range not used since it\n",
      "cannot be safely cast to variable data type\n",
      "  time_var = np.array(dataset.variables['time'][:], dtype=np.float64)  # Already in minutes!\n"
     ]
    },
    {
     "name": "stdout",
     "output_type": "stream",
     "text": [
      "NASA Time Units: minutes since 2019-12-16 01:30:00\n",
      "NASA Time Units: minutes since 2019-12-17 01:30:00\n",
      "NASA Time Units: minutes since 2019-12-18 01:30:00\n",
      "NASA Time Units: minutes since 2019-12-19 01:30:00\n",
      "Wind data precomputed for 7040 points across 5 days.\n"
     ]
    }
   ],
   "source": [
    "windmodel = RealWind(start_date=\"2019-12-15\", num_days=5)  # Load real wind data\n",
    "obsLocs = np.array([\n",
    "    [0, 1440, 400000, 600000],\n",
    "    [0, 1440, 410000, 610000]])\n",
    "sensors = RemoteSensingModel( simulation_minutes=1440, dt=180)"
   ]
  },
  {
   "cell_type": "markdown",
   "metadata": {},
   "source": [
    "Generate some synthetic concentration data.\n",
    "We have a source of pollution at [10, 20] at time -4."
   ]
  },
  {
   "cell_type": "code",
   "execution_count": 4,
   "metadata": {},
   "outputs": [],
   "source": [
    "from scipy.stats import norm\n",
    "\n",
    "def getrealconc(t,x,y,D):\n",
    "    \"\"\"For a sythentic dataset, provides the real concentration that will result from the simulated sources\n",
    "    \"\"\"\n",
    "    blobcentre = np.array([t+10,t+20]) #1m/s\n",
    "    blobsize = np.sqrt(2*2*D*(t+4))\n",
    "    if blobsize<1: blobsize=1\n",
    "    d = np.linalg.norm(np.array([x,y])-blobcentre)\n",
    "    #v = d\n",
    "    v = 1000*norm(0,blobsize).pdf(d)*norm(10,1).cdf(t)/blobsize #normalised.\n",
    "    \n",
    "    return [t,t+10,x,y],v"
   ]
  },
  {
   "cell_type": "code",
   "execution_count": 5,
   "metadata": {},
   "outputs": [],
   "source": [
    "X = []\n",
    "Y = []\n",
    "D = 2\n",
    "for x in np.linspace(10,90,7):#7):\n",
    "    for y in np.linspace(10,90,7):#7):\n",
    "        for t in np.linspace(0,60,7):\n",
    "            newX,newY = getrealconc(t,x,y,D)\n",
    "            X.append(newX)\n",
    "            Y.append(newY)\n",
    "X = np.array(X)\n",
    "Y = np.array(Y)\n",
    "#Y /= np.std(Y)"
   ]
  },
  {
   "cell_type": "markdown",
   "metadata": {},
   "source": [
    "Plot the concentration over time:"
   ]
  },
  {
   "cell_type": "code",
   "execution_count": 6,
   "metadata": {},
   "outputs": [
    {
     "name": "stderr",
     "output_type": "stream",
     "text": [
      "C:\\Users\\Nur Izfarwiza\\anaconda3\\Lib\\site-packages\\matplotlib\\collections.py:996: RuntimeWarning: invalid value encountered in sqrt\n",
      "  scale = np.sqrt(self._sizes) * dpi / 72.0 * self._factor\n"
     ]
    },
    {
     "data": {
      "image/png": "[encoded data removed]",
      "text/plain": [
       "<Figure size 1500x300 with 5 Axes>"
      ]
     },
     "metadata": {},
     "output_type": "display_data"
    }
   ],
   "source": [
    "from matplotlib import pyplot as plt\n",
    "plt.figure(figsize=[15,3])\n",
    "for i,t in enumerate(np.arange(0,50,10)):\n",
    "    plt.subplot(1,5,i+1)\n",
    "    keep = X[:,0]==t\n",
    "    plt.scatter(X[:,2],X[:,3],0.1,color='black')\n",
    "    plt.scatter(X[keep,2],X[keep,3],Y[keep]*10-1,color='pink')\n",
    "    plt.xlim([-10,110])\n",
    "    plt.ylim([-10,110])\n",
    "    #plt.axis('equal')\n",
    "    plt.title(\"t = %0.1f (%0.1f)\" % (t,np.sum(Y[keep])))\n",
    "    "
   ]
  },
  {
   "cell_type": "code",
   "execution_count": 7,
   "metadata": {},
   "outputs": [
    {
     "name": "stdout",
     "output_type": "stream",
     "text": [
      "([-7.0, -10, -10], [77.0, 98.0, 98.0])\n"
     ]
    }
   ],
   "source": [
    "from advectionGPdatasets import proposeboundary\n",
    "boundary = proposeboundary(X) #for our given observation locations pick a boundary that fits them all\n",
    "boundary[0][1]=-10 #puts the source on the grid!\n",
    "boundary[0][2]=-10\n",
    "#boundary = ([-7.0, -10, -10], [77.0, 100, 100])\n",
    "print(boundary)"
   ]
  },
  {
   "cell_type": "code",
   "execution_count": 8,
   "metadata": {},
   "outputs": [
    {
     "name": "stdout",
     "output_type": "stream",
     "text": [
      "NASA Time Units: minutes since 2019-10-01 01:30:00\n"
     ]
    },
    {
     "name": "stderr",
     "output_type": "stream",
     "text": [
      "C:\\Users\\Nur Izfarwiza\\AppData\\Local\\Temp\\ipykernel_32064\\706863214.py:49: RuntimeWarning: invalid value encountered in cast\n",
      "  time_var = np.array(dataset.variables['time'][:], dtype=np.float64)  # Already in minutes!\n",
      "C:\\Users\\Nur Izfarwiza\\AppData\\Local\\Temp\\ipykernel_32064\\706863214.py:49: UserWarning: WARNING: valid_range not used since it\n",
      "cannot be safely cast to variable data type\n",
      "  time_var = np.array(dataset.variables['time'][:], dtype=np.float64)  # Already in minutes!\n"
     ]
    },
    {
     "name": "stdout",
     "output_type": "stream",
     "text": [
      "NASA Time Units: minutes since 2019-10-02 01:30:00\n",
      "Wind data precomputed for 2816 points across 2 days.\n"
     ]
    },
    {
     "ename": "TypeError",
     "evalue": "MeshModel.__init__() takes from 6 to 7 positional arguments but 8 were given",
     "output_type": "error",
     "traceback": [
      "\u001b[1;31m---------------------------------------------------------------------------\u001b[0m",
      "\u001b[1;31mTypeError\u001b[0m                                 Traceback (most recent call last)",
      "Cell \u001b[1;32mIn[8], line 18\u001b[0m\n\u001b[0;32m     15\u001b[0m k_0 \u001b[38;5;241m=\u001b[39m \u001b[38;5;241m0.5\u001b[39m \u001b[38;5;66;03m#diffusion cooef? [doesn't match the simulation!!]\u001b[39;00m\n\u001b[0;32m     17\u001b[0m \u001b[38;5;66;03m#Initiate new model for inference\u001b[39;00m\n\u001b[1;32m---> 18\u001b[0m mInfer \u001b[38;5;241m=\u001b[39m \u001b[43mModel\u001b[49m\u001b[43m(\u001b[49m\u001b[43mresolution\u001b[49m\u001b[38;5;241;43m=\u001b[39;49m\u001b[43mres\u001b[49m\u001b[43m,\u001b[49m\u001b[43mboundary\u001b[49m\u001b[38;5;241;43m=\u001b[39;49m\u001b[43mboundary\u001b[49m\u001b[43m,\u001b[49m\u001b[43mN_feat\u001b[49m\u001b[38;5;241;43m=\u001b[39;49m\u001b[43mN_feat\u001b[49m\u001b[43m,\u001b[49m\u001b[43mnoiseSD\u001b[49m\u001b[38;5;241;43m=\u001b[39;49m\u001b[43mnoiseSD\u001b[49m\u001b[43m,\u001b[49m\u001b[43mkernel\u001b[49m\u001b[38;5;241;43m=\u001b[39;49m\u001b[43mk\u001b[49m\u001b[43m,\u001b[49m\u001b[43msensormodel\u001b[49m\u001b[38;5;241;43m=\u001b[39;49m\u001b[43msensors\u001b[49m\u001b[43m,\u001b[49m\u001b[43msensormodel2\u001b[49m\u001b[38;5;241;43m=\u001b[39;49m\u001b[43m \u001b[49m\u001b[43msensors2\u001b[49m\u001b[43m,\u001b[49m\u001b[43mwindmodel\u001b[49m\u001b[38;5;241;43m=\u001b[39;49m\u001b[43mwindmodel\u001b[49m\u001b[43m,\u001b[49m\u001b[43mk_0\u001b[49m\u001b[38;5;241;43m=\u001b[39;49m\u001b[43mk_0\u001b[49m\u001b[43m)\u001b[49m\n\u001b[0;32m     20\u001b[0m mInfer\u001b[38;5;241m.\u001b[39mcomputeModelRegressors(Nparticles\u001b[38;5;241m=\u001b[39m\u001b[38;5;241m20\u001b[39m) \u001b[38;5;66;03m# Compute regressor matrix\u001b[39;00m\n\u001b[0;32m     21\u001b[0m meanZ, covZ \u001b[38;5;241m=\u001b[39m mInfer\u001b[38;5;241m.\u001b[39mcomputeZDistribution(Y) \u001b[38;5;66;03m# Infers z vector mean and covariance using regressor matrix\u001b[39;00m\n",
      "File \u001b[1;32mc:\\users\\nur izfarwiza\\documents\\dissertation\\advectiongp\\advectionGP\\models\\mfmodels.py:38\u001b[0m, in \u001b[0;36mMeshFreeAdjointAdvectionDiffusionModel.__init__\u001b[1;34m(self, boundary, resolution, kernel, noiseSD, sensormodel, sensormodel2, windmodel, k_0, R, N_feat, walls)\u001b[0m\n\u001b[0;32m     10\u001b[0m \u001b[38;5;28;01mdef\u001b[39;00m \u001b[38;5;21m__init__\u001b[39m(\u001b[38;5;28mself\u001b[39m,boundary,resolution,kernel,noiseSD,sensormodel,sensormodel2,windmodel,k_0,R\u001b[38;5;241m=\u001b[39m\u001b[38;5;241m0\u001b[39m,N_feat\u001b[38;5;241m=\u001b[39m\u001b[38;5;241m25\u001b[39m,walls\u001b[38;5;241m=\u001b[39m\u001b[38;5;28;01mNone\u001b[39;00m):\n\u001b[0;32m     11\u001b[0m \u001b[38;5;250m    \u001b[39m\u001b[38;5;124;03m\"\"\"\u001b[39;00m\n\u001b[0;32m     12\u001b[0m \u001b[38;5;124;03m    This model uses particle approximation to compute the adjoints for the advection/diffusion model\u001b[39;00m\n\u001b[0;32m     13\u001b[0m \n\u001b[1;32m   (...)\u001b[0m\n\u001b[0;32m     36\u001b[0m \u001b[38;5;124;03m        N_feat = Number of features in the approximation.\u001b[39;00m\n\u001b[0;32m     37\u001b[0m \u001b[38;5;124;03m    \"\"\"\u001b[39;00m\n\u001b[1;32m---> 38\u001b[0m     \u001b[38;5;28;43msuper\u001b[39;49m\u001b[43m(\u001b[49m\u001b[43m)\u001b[49m\u001b[38;5;241;43m.\u001b[39;49m\u001b[38;5;21;43m__init__\u001b[39;49m\u001b[43m(\u001b[49m\u001b[43mboundary\u001b[49m\u001b[43m,\u001b[49m\u001b[43mresolution\u001b[49m\u001b[43m,\u001b[49m\u001b[43mkernel\u001b[49m\u001b[43m,\u001b[49m\u001b[43mnoiseSD\u001b[49m\u001b[43m,\u001b[49m\u001b[43msensormodel\u001b[49m\u001b[43m,\u001b[49m\u001b[43msensormodel2\u001b[49m\u001b[43m,\u001b[49m\u001b[43mN_feat\u001b[49m\u001b[43m)\u001b[49m\n\u001b[0;32m     39\u001b[0m     \u001b[38;5;28mself\u001b[39m\u001b[38;5;241m.\u001b[39mwindmodel \u001b[38;5;241m=\u001b[39m windmodel\n\u001b[0;32m     40\u001b[0m     \u001b[38;5;28mself\u001b[39m\u001b[38;5;241m.\u001b[39mk_0 \u001b[38;5;241m=\u001b[39m k_0\n",
      "\u001b[1;31mTypeError\u001b[0m: MeshModel.__init__() takes from 6 to 7 positional arguments but 8 were given"
     ]
    }
   ],
   "source": [
    "np.random.seed(42) #random seed fixed at start\n",
    "#set up our model...\n",
    "N_feat = 1500 #Number of features used to infer the source\n",
    "k = EQ(10, 1) #our choice of kernel [EQ kernel, using fourier features]\n",
    "#k = GaussianBases(25, 1) #<--- This kernel doesn't place features randomly, but on a grid!\n",
    "res = [120,30,30] #120 time steps...\n",
    "\n",
    "noiseSD = 0.001 #this is how noisy the measurements are.\n",
    "\n",
    "sensors = FixedSensorModel(X,3) #this is how our data is observed.\n",
    "sensors2 = RemoteSensingModel( simulation_minutes=1440, dt=180)\n",
    "# windmodel=WindSimple(1,1) #wind is the same everywhere it heads north east at 1.4m/s\n",
    "windmodel = RealWind(start_date=\"2019-10-01\", num_days=2)  # Load real wind data\n",
    "\n",
    "k_0 = 0.5 #diffusion cooef? [doesn't match the simulation!!]\n",
    "\n",
    "#Initiate new model for inference\n",
    "mInfer = Model(resolution=res,boundary=boundary,N_feat=N_feat,noiseSD=noiseSD,kernel=k,sensormodel=sensors,sensormodel2= sensors2,windmodel=windmodel,k_0=k_0)\n",
    "\n",
    "mInfer.computeModelRegressors(Nparticles=20) # Compute regressor matrix\n",
    "meanZ, covZ = mInfer.computeZDistribution(Y) # Infers z vector mean and covariance using regressor matrix\n",
    "\n",
    "#simple way\n",
    "#sourceInfer = mInfer.computeSourceFromPhi(meanZ) # Generates estimated source using mean of the inferred distribution\n",
    "#concInfer=mInfer.computeConcentration(sourceInfer) # Generates estimated concentration from inferred source\n",
    "\n",
    "#if we want lots of samples from the posterior do this...\n",
    "Nsamps = 20\n",
    "if Nsamps==1:\n",
    "    Zs = meanZ[None,:]\n",
    "else:\n",
    "    Zs = np.random.multivariate_normal(meanZ,covZ,Nsamps)\n",
    "sources = np.array([mInfer.computeSourceFromPhiInterpolated(z) for z in Zs])\n",
    "sourcemean = np.mean(sources,0)\n",
    "sourcevar = np.var(sources,0)\n",
    "print(\"Actual number of features: %d\" % k.N_feat)"
   ]
  },
  {
   "cell_type": "code",
   "execution_count": null,
   "metadata": {},
   "outputs": [],
   "source": [
    "print(type(mInfer.windmodel))  # This should print <class '__main__.RealWind'>\n",
    "wind_data = self.windmodelgetwind(coords)\n",
    "\n",
    "# Print shape before passing to getwind\n",
    "print(\"Shape of coords being passed to getwind:\", particles[:,:,1:].shape)  \n",
    "print(\"Expected shape: (num_particles, num_observations, 3) [time, easting, northing]\")\n",
    "mInfer.computeModelRegressors(Nparticles=20) \n",
    "\n",
    "# Call windmodel.getwind\n",
    "wind = self.windmodel.getwind(particles[:,:,1:])*dt\n",
    "\n",
    "\n"
   ]
  },
  {
   "cell_type": "code",
   "execution_count": null,
   "metadata": {},
   "outputs": [],
   "source": [
    "sourcemean.shape"
   ]
  },
  {
   "cell_type": "code",
   "execution_count": null,
   "metadata": {},
   "outputs": [],
   "source": [
    "mInfer.getGridCoord([10,0,0])[0]"
   ]
  },
  {
   "cell_type": "code",
   "execution_count": null,
   "metadata": {},
   "outputs": [],
   "source": [
    "for t_index in range(0,50,3):\n",
    "    plt.figure()\n",
    "    plt.subplot(1,2,1)\n",
    "    plt.title(t_index)\n",
    "    plt.imshow(sourcemean[t_index,:,:],clim=[-0.15,0.3])\n",
    "    plt.colorbar()\n",
    "    plt.subplot(1,2,2)\n",
    "    plt.imshow(np.sqrt(sourcevar[t_index,:,:]))#,clim=[-0.15,0.3])\n",
    "    plt.colorbar()"
   ]
  },
  {
   "cell_type": "code",
   "execution_count": null,
   "metadata": {},
   "outputs": [],
   "source": [
    "sensors = RemoteSensingModel()"
   ]
  },
  {
   "cell_type": "code",
   "execution_count": null,
   "metadata": {},
   "outputs": [],
   "source": [
    "import matplotlib.pyplot as plt\n",
    "from pyproj import Proj, transform\n",
    "\n",
    "proj = Proj(proj='utm', zone=56, south=True, ellps='WGS84')\n",
    "proj_latlon = Proj(proj='latlong', datum='WGS84')\n",
    "Nparticles=5\n",
    "particles = sensors.genParticles(Nparticles)\n",
    "# Example: Plot your particle cloud (Nparticles, Nobs, 3)\n",
    "x = particles[...,1].flatten()\n",
    "y = particles[...,2].flatten()\n",
    "lon, lat = proj(x, y, inverse=True)\n",
    "\n",
    "plt.figure(figsize=(8,8))\n",
    "plt.scatter(lon, lat, s=1, label=\"Particles\")\n",
    "plt.xlabel(\"Longitude\")\n",
    "plt.ylabel(\"Latitude\")\n",
    "plt.title(\"Particle Locations over Australia\")\n",
    "plt.legend()\n",
    "plt.show()\n"
   ]
  },
  {
   "cell_type": "code",
   "execution_count": null,
   "metadata": {},
   "outputs": [],
   "source": [
    "import cartopy.crs as ccrs\n",
    "import cartopy.feature as cfeature\n",
    "import matplotlib.pyplot as plt\n",
    "import datetime\n",
    "\n",
    "# Assuming sourcemean is your source array and you already defined lon_bins, lat_bins\n",
    "\n",
    "start_date = datetime.datetime(2019, 12, 15, 0, 0)\n",
    "time_interval = 3 * 60  # 3 hours in minutes\n",
    "lon_bins = np.linspace(140.5, 157, sourcemean.shape[2])\n",
    "lat_bins = np.linspace(-39, -34, sourcemean.shape[1])\n",
    "\n",
    "for t_index in range(0, 50, 3):\n",
    "    current_time = start_date + datetime.timedelta(minutes=t_index * time_interval)\n",
    "    \n",
    "    plt.figure(figsize=(8, 6))\n",
    "    \n",
    "    ax = plt.axes(projection=ccrs.PlateCarree())\n",
    "    ax.set_extent([140.5, 157, -39, -34])\n",
    "    ax.add_feature(cfeature.COASTLINE)\n",
    "    ax.add_feature(cfeature.BORDERS)\n",
    "    ax.add_feature(cfeature.LAND, facecolor='lightgray')\n",
    "\n",
    "    # The actual heatmap\n",
    "    cf = ax.contourf(lon_bins, lat_bins, sourcemean[t_index, :, :], transform=ccrs.PlateCarree(), cmap='plasma')\n",
    "    plt.colorbar(cf, ax=ax, label='Inferred Source Strength')\n",
    "    plt.title(f\"Inferred Source on {current_time.strftime('%Y-%m-%d %H:%M')}\")\n",
    "    plt.show()\n"
   ]
  },
  {
   "cell_type": "code",
   "execution_count": null,
   "metadata": {},
   "outputs": [],
   "source": [
    "import geopandas as gpd\n",
    "import cartopy.crs as ccrs\n",
    "import cartopy.feature as cfeature\n",
    "import matplotlib.pyplot as plt\n",
    "import datetime\n",
    "\n",
    "# ---- Load Fire Origins shapefile ----\n",
    "shapefile_path = r\"C:\\Users\\Nur Izfarwiza\\Documents\\Dissertation\\Order_CD850U\\mga94_54\\esrishape\\cma100\\East Gippsland-0\\FIRE\\FIRE_HISTORY_ORIGIN.shp\"\n",
    "gdf = gpd.read_file(shapefile_path)\n",
    "gdf = gdf.to_crs(epsg=4326)  # convert to lat/lon\n",
    "# Assuming your gdf has the full fire history data\n",
    "fires_december = gdf[\n",
    "    (gdf['FIRE_START'] >= '2019-12-15') & \n",
    "    (gdf['FIRE_START'] <= '2019-12-30')\n",
    "]\n",
    "\n",
    "start_date = datetime.datetime(2019, 12, 20, 0, 0)\n",
    "time_interval = 3 * 60  # 3 hours in minutes\n",
    "lon_bins = np.linspace(140.5, 157, sourcemean.shape[2])\n",
    "lat_bins = np.linspace(-39, -34, sourcemean.shape[1])\n",
    "\n",
    "# Loop over each time step and overlay with fires on the corresponding date\n",
    "for t_index in range(0, 50, 3):\n",
    "    current_time = start_date + datetime.timedelta(minutes=t_index * time_interval)\n",
    "    current_date = current_time.date()\n",
    "    \n",
    "    # Filter fire origins for the matching date\n",
    "    daily_fires = fires_december[fires_december['FIRE_START'].dt.date == current_date]\n",
    "    \n",
    "    # Plotting\n",
    "    plt.figure(figsize=(8, 6))\n",
    "    ax = plt.axes(projection=ccrs.PlateCarree())\n",
    "    ax.set_extent([140.5, 157, -39, -34])\n",
    "    ax.add_feature(cfeature.COASTLINE)\n",
    "    ax.add_feature(cfeature.BORDERS)\n",
    "    ax.add_feature(cfeature.LAND, facecolor='lightgray')\n",
    "\n",
    "    # Heatmap\n",
    "    cf = ax.contourf(lon_bins, lat_bins, sourcemean[t_index, :, :], transform=ccrs.PlateCarree(), cmap='plasma')\n",
    "\n",
    "    # Fire points for this date (if any)\n",
    "    if not daily_fires.empty:\n",
    "        daily_fires.plot(ax=ax, marker='o', color='red', markersize=5, label='Fires on this date')\n",
    "\n",
    "    plt.colorbar(cf, ax=ax, label='Inferred Source Strength')\n",
    "    plt.title(f\"Inferred Source + Fire Origins on {current_time.strftime('%Y-%m-%d')}\")\n",
    "    plt.legend()\n",
    "    plt.show()\n",
    "\n"
   ]
  },
  {
   "cell_type": "code",
   "execution_count": null,
   "metadata": {},
   "outputs": [],
   "source": [
    "# Example: source is (Nt, Nx, Ny)\n",
    "t_index = 21  # or any time step you are interested in\n",
    "source_at_t = sourcemean[t_index, :, :]  # e.g., sourcemean from your plot\n",
    "\n",
    "# Get the index of the maximum value\n",
    "max_idx = np.unravel_index(np.argmax(source_at_t), source_at_t.shape)\n",
    "x_idx, y_idx = max_idx\n",
    "\n",
    "# Convert grid index back to real coordinates (e.g., using your grid definition)\n",
    "real_x = x[x_idx] \n",
    "real_y = y[y_idx]\n",
    "\n",
    "print(f\"Max inferred source at: x = {real_x}, y = {real_y}\")\n"
   ]
  },
  {
   "cell_type": "code",
   "execution_count": null,
   "metadata": {},
   "outputs": [],
   "source": [
    "import geopandas as gpd\n",
    "import matplotlib.pyplot as plt\n",
    "import cartopy.crs as ccrs\n",
    "import cartopy.feature as cfeature\n",
    "import numpy as np\n",
    "\n",
    "# Load your fire origins shapefile\n",
    "gdf = gpd.read_file('path_to/FIREHISTORYORIGIN.shp')\n",
    "\n",
    "# Load your inferred source heatmap data\n",
    "# Assuming you already have these\n",
    "# lat_bins, lon_bins = your grid lat/lon\n",
    "# sourcemean = your inferred source (time steps x grid)\n",
    "\n",
    "t_index = 21  # example time index\n",
    "\n",
    "# Set up plot\n",
    "plt.figure(figsize=(10, 8))\n",
    "ax = plt.axes(projection=ccrs.PlateCarree())\n",
    "ax.set_extent([141, 150, -39, -33])  # Zoom into Victoria\n",
    "\n",
    "# Add base map\n",
    "ax.add_feature(cfeature.COASTLINE)\n",
    "ax.add_feature(cfeature.BORDERS)\n",
    "ax.add_feature(cfeature.LAND, facecolor='lightgray')\n",
    "\n",
    "# Plot inferred source heatmap\n",
    "cf = plt.contourf(lon_bins, lat_bins, sourcemean[t_index, :, :], \n",
    "                  transform=ccrs.PlateCarree(), cmap='plasma', alpha=0.7)\n",
    "plt.colorbar(cf, label='Inferred Source Strength')\n",
    "\n",
    "# Overlay fire origins points\n",
    "gdf.plot(ax=ax, color='red', markersize=10, label='Historical Fire Origins', transform=ccrs.PlateCarree())\n",
    "\n",
    "plt.legend()\n",
    "plt.title(\"Inferred Source + Fire Origins (Victoria)\")\n",
    "plt.show()\n"
   ]
  },
  {
   "cell_type": "markdown",
   "metadata": {},
   "source": [
    "# coding examples for generating particles"
   ]
  },
  {
   "cell_type": "code",
   "execution_count": null,
   "metadata": {},
   "outputs": [],
   "source": [
    "exampleparticles = mInfer.genParticlesFromObservations(10)"
   ]
  },
  {
   "cell_type": "code",
   "execution_count": null,
   "metadata": {},
   "outputs": [],
   "source": [
    "exampleparticles[:,0,2]"
   ]
  },
  {
   "cell_type": "code",
   "execution_count": null,
   "metadata": {},
   "outputs": [],
   "source": [
    "plt.plot(exampleparticles[0,:,1],exampleparticles[0,:,2],'x')"
   ]
  },
  {
   "cell_type": "code",
   "execution_count": null,
   "metadata": {},
   "outputs": [],
   "source": [
    "exampleparticles.shape #3430 points going in... each at a given time/space"
   ]
  },
  {
   "cell_type": "code",
   "execution_count": null,
   "metadata": {},
   "outputs": [],
   "source": [
    "trickyparticles = np.random.rand(10,20,18,30,3)"
   ]
  },
  {
   "cell_type": "code",
   "execution_count": null,
   "metadata": {},
   "outputs": [],
   "source": [
    "trickyparticles.shape"
   ]
  },
  {
   "cell_type": "code",
   "execution_count": null,
   "metadata": {},
   "outputs": [],
   "source": [
    "mInfer.kernel.N_feat"
   ]
  },
  {
   "cell_type": "code",
   "execution_count": null,
   "metadata": {},
   "outputs": [],
   "source": []
  },
  {
   "cell_type": "code",
   "execution_count": null,
   "metadata": {},
   "outputs": [],
   "source": []
  }
 ],
 "metadata": {
  "kernelspec": {
   "display_name": "Python 3 (ipykernel)",
   "language": "python",
   "name": "python3"
  },
  "language_info": {
   "codemirror_mode": {
    "name": "ipython",
    "version": 3
   },
   "file_extension": ".py",
   "mimetype": "text/x-python",
   "name": "python",
   "nbconvert_exporter": "python",
   "pygments_lexer": "ipython3",
   "version": "3.12.7"
  }
 },
 "nbformat": 4,
 "nbformat_minor": 4
}
