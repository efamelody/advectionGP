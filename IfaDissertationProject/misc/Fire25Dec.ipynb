{
 "cells": [
  {
   "cell_type": "code",
   "execution_count": 1,
   "id": "08e012d9-69b9-41a0-bb17-da5d0b3e360d",
   "metadata": {},
   "outputs": [],
   "source": [
    "import geopandas as gpd\n",
    "import matplotlib.pyplot as plt\n",
    "import cartopy.crs as ccrs\n",
    "import cartopy.feature as cfeature\n",
    "from datetime import datetime, timedelta\n",
    "from netCDF4 import Dataset\n",
    "import numpy as np\n",
    "import os\n",
    "import pandas as pd\n",
    "\n",
    "# === Fire shapefile ===\n",
    "fire_path = r\"C:\\Users\\Nur Izfarwiza\\Documents\\Dissertation\\Order_CD850U\\mga94_54\\esrishape\\cma100\\East Gippsland-0\\FIRE\\FIRE_HISTORY_ORIGIN.shp\"\n",
    "gdf = gpd.read_file(fire_path)\n",
    "gdf = gdf.to_crs(epsg=4326)  # convert to lat/lon\n",
    "\n",
    "# === Filter fires between Dec 2019 and Jan 2020 ===\n",
    "gdf['FIRE_START'] = pd.to_datetime(gdf['FIRE_START'], errors='coerce')\n",
    "filtered_fires = gdf[\n",
    "    (gdf['FIRE_START'] >= '2019-12-25') & \n",
    "    (gdf['FIRE_START'] <= '2020-01-05')\n",
    "]"
   ]
  },
  {
   "cell_type": "code",
   "execution_count": 2,
   "id": "b276fb2c-1fe7-49bf-ad79-f6ef0dcdcaec",
   "metadata": {},
   "outputs": [
    {
     "name": "stdout",
     "output_type": "stream",
     "text": [
      "🔥 SNOWY 8 - WALLAGARAUGH - WALLAGARAUGH ROAD at (lon: 149.6970, lat: -37.4616)\n"
     ]
    }
   ],
   "source": [
    "# Filter for fires on December 25, 2019\n",
    "fires_on_25th = filtered_fires[filtered_fires['FIRE_START'].dt.date == datetime(2019, 12, 25).date()]\n",
    "\n",
    "# Get coordinates\n",
    "for idx, row in fires_on_25th.iterrows():\n",
    "    lon, lat = row.geometry.x, row.geometry.y\n",
    "    print(f\"🔥 {row['FIRE_NAME']} at (lon: {lon:.4f}, lat: {lat:.4f})\")\n"
   ]
  },
  {
   "cell_type": "code",
   "execution_count": null,
   "id": "0a5855d3-4800-43cd-b242-6975e856b3f2",
   "metadata": {},
   "outputs": [],
   "source": []
  }
 ],
 "metadata": {
  "kernelspec": {
   "display_name": "Python 3 (ipykernel)",
   "language": "python",
   "name": "python3"
  },
  "language_info": {
   "codemirror_mode": {
    "name": "ipython",
    "version": 3
   },
   "file_extension": ".py",
   "mimetype": "text/x-python",
   "name": "python",
   "nbconvert_exporter": "python",
   "pygments_lexer": "ipython3",
   "version": "3.12.7"
  }
 },
 "nbformat": 4,
 "nbformat_minor": 5
}
